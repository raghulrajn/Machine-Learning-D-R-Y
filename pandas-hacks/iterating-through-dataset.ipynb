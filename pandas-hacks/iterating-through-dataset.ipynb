{
 "cells": [
  {
   "cell_type": "code",
   "execution_count": 1,
   "id": "b7e381a4",
   "metadata": {},
   "outputs": [],
   "source": [
    "import numpy as np\n",
    "import pandas as pd\n",
    "\n",
    "df = pd.read_csv(\"heart-disease.csv\")"
   ]
  },
  {
   "cell_type": "code",
   "execution_count": 2,
   "id": "71693e61",
   "metadata": {},
   "outputs": [
    {
     "data": {
      "text/plain": [
       "(319795, 18)"
      ]
     },
     "execution_count": 2,
     "metadata": {},
     "output_type": "execute_result"
    }
   ],
   "source": [
    "df.shape"
   ]
  },
  {
   "cell_type": "code",
   "execution_count": 5,
   "id": "bed7a1cc",
   "metadata": {},
   "outputs": [
    {
     "name": "stdout",
     "output_type": "stream",
     "text": [
      "CPU times: user 2min 11s, sys: 66 ms, total: 2min 12s\n",
      "Wall time: 2min 12s\n"
     ]
    }
   ],
   "source": [
    "%%time\n",
    "\n",
    "for index, row in df.iterrows():\n",
    "    row[\"flag\"] = row[\"BMI\"] + row[\"PhysicalHealth\"]"
   ]
  },
  {
   "cell_type": "code",
   "execution_count": 6,
   "id": "5b1e695c",
   "metadata": {},
   "outputs": [
    {
     "name": "stdout",
     "output_type": "stream",
     "text": [
      "CPU times: user 3.95 s, sys: 3.98 ms, total: 3.95 s\n",
      "Wall time: 3.96 s\n"
     ]
    }
   ],
   "source": [
    "%%time\n",
    "\n",
    "for rows in df.itertuples():\n",
    "    row[\"flag1\"] = row[\"BMI\"] + row[\"PhysicalHealth\"]"
   ]
  },
  {
   "cell_type": "code",
   "execution_count": 9,
   "id": "fd1b58cd",
   "metadata": {},
   "outputs": [
    {
     "name": "stdout",
     "output_type": "stream",
     "text": [
      "CPU times: user 174 ms, sys: 48 ms, total: 222 ms\n",
      "Wall time: 219 ms\n"
     ]
    }
   ],
   "source": [
    "%%time\n",
    "#df.values convert the dataframe into list of lists\n",
    "for row in df.values:\n",
    "    flag = row[1]+row[5]"
   ]
  },
  {
   "cell_type": "code",
   "execution_count": 10,
   "id": "be0f264d",
   "metadata": {},
   "outputs": [
    {
     "name": "stdout",
     "output_type": "stream",
     "text": [
      "CPU times: user 3.21 s, sys: 100 ms, total: 3.31 s\n",
      "Wall time: 3.31 s\n"
     ]
    }
   ],
   "source": [
    "%%time\n",
    "#df.to_dict(\"records\") convert the dataframe into key-value pair of dictionaries\n",
    "for row in df.to_dict(\"records\"):\n",
    "    flag = row[\"BMI\"] + row[\"PhysicalHealth\"]"
   ]
  },
  {
   "cell_type": "markdown",
   "id": "77599378",
   "metadata": {},
   "source": [
    "Out of the above mentioned ways to iterate through rows of dataframe, df.values does the job faster. For ease of usage itertuples() will be the efficient way to iterate through rows of dataframe"
   ]
  },
  {
   "cell_type": "code",
   "execution_count": null,
   "id": "98ebde51",
   "metadata": {},
   "outputs": [],
   "source": []
  }
 ],
 "metadata": {
  "kernelspec": {
   "display_name": "Python 3 (ipykernel)",
   "language": "python",
   "name": "python3"
  },
  "language_info": {
   "codemirror_mode": {
    "name": "ipython",
    "version": 3
   },
   "file_extension": ".py",
   "mimetype": "text/x-python",
   "name": "python",
   "nbconvert_exporter": "python",
   "pygments_lexer": "ipython3",
   "version": "3.8.10"
  }
 },
 "nbformat": 4,
 "nbformat_minor": 5
}
